%matplotlib inline

import numpy as np
import matplotlib.pyplot as plt

path = './packet_analysis/'
int i = 0

for fname in os.listdir(path):
    data = []
    i += 1
    
    if (os.path.isdir(path + fname)):
        continue
    
    with open(path + fname, 'r') as f:
        for line in f:
            data.append(int(line))

    # x = np.sort(data)
    # y = np.arange(len(x))/float(len(x))
#     # plt.plot(x, y)
#     plt.figure(i)
    plt.plot(np.sort(data), np.linspace(0, 1, len(data), endpoint=False))
